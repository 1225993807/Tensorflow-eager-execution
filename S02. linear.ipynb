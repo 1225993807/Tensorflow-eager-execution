{
 "cells": [
  {
   "cell_type": "markdown",
   "metadata": {},
   "source": [
    "# 数据"
   ]
  },
  {
   "cell_type": "code",
   "execution_count": 1,
   "metadata": {},
   "outputs": [],
   "source": [
    "# 导入 TensorFlow\n",
    "import tensorflow as tf\n",
    "# 使用 即显模式\n",
    "tf.enable_eager_execution()\n",
    "\n",
    "# 训练集\n",
    "n_example = 100\n",
    "train_x = tf.random_normal([n_example])\n",
    "train_noise = tf.random_normal([n_example])\n",
    "train_y = train_x * 2 - 1 + train_noise\n",
    "\n",
    "# 测试集\n",
    "n_example = 10\n",
    "test_x = tf.random_normal([n_example])\n",
    "test_noise = tf.random_normal([n_example])\n",
    "test_y = test_x * 2 - 1 + test_noise"
   ]
  },
  {
   "cell_type": "code",
   "execution_count": 3,
   "metadata": {},
   "outputs": [
    {
     "data": {
      "image/png": "[encoded data removed]",
      "text/plain": [
       "<Figure size 432x288 with 1 Axes>"
      ]
     },
     "metadata": {},
     "output_type": "display_data"
    }
   ],
   "source": [
    "# 显示训练集\n",
    "import matplotlib.pyplot as plt\n",
    "plt.plot(train_x, train_y - train_noise, color = 'green')\n",
    "plt.scatter(train_x, train_y)\n",
    "plt.legend(['Rule','Data'])\n",
    "plt.show()"
   ]
  },
  {
   "cell_type": "markdown",
   "metadata": {},
   "source": [
    "# 模型"
   ]
  },
  {
   "cell_type": "code",
   "execution_count": 4,
   "metadata": {},
   "outputs": [],
   "source": [
    "import tensorflow.contrib.eager as tfe\n",
    "# 定义模型\n",
    "class Model(object):\n",
    "    def __init__(self):\n",
    "        # 参数\n",
    "        # 初始化：随便给 参数 W 和 b 两个值\n",
    "        self.W = tfe.Variable(1.0)\n",
    "        self.b = tfe.Variable(1.0)\n",
    "    \n",
    "    def __call__(self, x):\n",
    "        # 正向传递\n",
    "        # 如何利用 参数 W 和 b 运算\n",
    "        y = self.W * x + self.b\n",
    "        return y\n",
    "# 实例模型\n",
    "model = Model()"
   ]
  },
  {
   "cell_type": "markdown",
   "metadata": {},
   "source": [
    "# 训练"
   ]
  },
  {
   "cell_type": "code",
   "execution_count": 5,
   "metadata": {
    "scrolled": true
   },
   "outputs": [
    {
     "name": "stdout",
     "output_type": "stream",
     "text": [
      "Epoch: 000 | Loss: 5.267 | W: 1.077 | b: 0.846\n",
      "Epoch: 001 | Loss: 4.647 | W: 1.150 | b: 0.704\n",
      "Epoch: 002 | Loss: 4.115 | W: 1.217 | b: 0.573\n",
      "Epoch: 003 | Loss: 3.659 | W: 1.281 | b: 0.452\n",
      "Epoch: 004 | Loss: 3.267 | W: 1.340 | b: 0.339\n",
      "Epoch: 005 | Loss: 2.930 | W: 1.395 | b: 0.235\n",
      "Epoch: 006 | Loss: 2.642 | W: 1.447 | b: 0.139\n",
      "Epoch: 007 | Loss: 2.394 | W: 1.495 | b: 0.050\n",
      "Epoch: 008 | Loss: 2.182 | W: 1.540 | b: -0.032\n",
      "Epoch: 009 | Loss: 1.999 | W: 1.582 | b: -0.108\n",
      "Epoch: 010 | Loss: 1.843 | W: 1.622 | b: -0.179\n",
      "Epoch: 011 | Loss: 1.709 | W: 1.658 | b: -0.244\n",
      "Epoch: 012 | Loss: 1.594 | W: 1.693 | b: -0.305\n",
      "Epoch: 013 | Loss: 1.496 | W: 1.725 | b: -0.360\n",
      "Epoch: 014 | Loss: 1.411 | W: 1.755 | b: -0.412\n",
      "Epoch: 015 | Loss: 1.339 | W: 1.783 | b: -0.460\n",
      "Epoch: 016 | Loss: 1.277 | W: 1.809 | b: -0.504\n",
      "Epoch: 017 | Loss: 1.224 | W: 1.833 | b: -0.545\n",
      "Epoch: 018 | Loss: 1.178 | W: 1.856 | b: -0.583\n",
      "Epoch: 019 | Loss: 1.139 | W: 1.877 | b: -0.618\n",
      "Epoch: 020 | Loss: 1.106 | W: 1.897 | b: -0.650\n",
      "Epoch: 021 | Loss: 1.078 | W: 1.916 | b: -0.681\n",
      "Epoch: 022 | Loss: 1.053 | W: 1.933 | b: -0.708\n",
      "Epoch: 023 | Loss: 1.033 | W: 1.949 | b: -0.734\n",
      "Epoch: 024 | Loss: 1.015 | W: 1.964 | b: -0.758\n",
      "Epoch: 025 | Loss: 1.000 | W: 1.978 | b: -0.780\n",
      "Epoch: 026 | Loss: 0.987 | W: 1.991 | b: -0.800\n",
      "Epoch: 027 | Loss: 0.976 | W: 2.004 | b: -0.819\n",
      "Epoch: 028 | Loss: 0.967 | W: 2.015 | b: -0.837\n",
      "Epoch: 029 | Loss: 0.959 | W: 2.026 | b: -0.853\n",
      "Epoch: 030 | Loss: 0.952 | W: 2.036 | b: -0.868\n",
      "Epoch: 031 | Loss: 0.946 | W: 2.045 | b: -0.882\n",
      "Epoch: 032 | Loss: 0.942 | W: 2.054 | b: -0.895\n",
      "Epoch: 033 | Loss: 0.938 | W: 2.062 | b: -0.907\n",
      "Epoch: 034 | Loss: 0.934 | W: 2.069 | b: -0.918\n",
      "Epoch: 035 | Loss: 0.931 | W: 2.076 | b: -0.928\n",
      "Epoch: 036 | Loss: 0.929 | W: 2.083 | b: -0.937\n",
      "Epoch: 037 | Loss: 0.927 | W: 2.089 | b: -0.946\n",
      "Epoch: 038 | Loss: 0.925 | W: 2.094 | b: -0.954\n",
      "Epoch: 039 | Loss: 0.924 | W: 2.100 | b: -0.962\n",
      "Final Test Loss: 0.9571562\n",
      "[1.138088 3.237724]\n"
     ]
    },
    {
     "data": {
      "image/png": "[encoded data removed]",
      "text/plain": [
       "<Figure size 432x288 with 1 Axes>"
      ]
     },
     "metadata": {},
     "output_type": "display_data"
    }
   ],
   "source": [
    "# 误差函数\n",
    "def loss(prediction, label):\n",
    "    loss = tf.reduce_mean(tf.square(prediction - label))\n",
    "    return loss\n",
    "\n",
    "# 更新方式\n",
    "def train(model, x, y, learning_rate, batch_size, epoch):\n",
    "    # 更新次数\n",
    "    for e in range(epoch):\n",
    "        # 批量更新\n",
    "        for b in range(0,len(x.numpy()),batch_size):\n",
    "            # 计算梯度\n",
    "            with tf.GradientTape() as tape:\n",
    "                loss_value = loss(model(x[b:b+batch_size]), y[b:b+batch_size])\n",
    "                dW, db = tape.gradient(loss_value, [model.W, model.b])\n",
    "            # 训练更新\n",
    "            model.W.assign_sub(dW * learning_rate)\n",
    "            model.b.assign_sub(db * learning_rate)\n",
    "        # 显示\n",
    "        print(\"Epoch: %03d | Loss: %.3f | W: %.3f | b: %.3f\" %(e, loss(model(x), y), model.W.numpy(), model.b.numpy()))\n",
    "\n",
    "# 训练\n",
    "train(model, train_x, train_y, learning_rate = 0.01, batch_size = 32, epoch = 40)\n",
    "\n",
    "# 评估\n",
    "test_p = model(test_x)\n",
    "print(\"Final Test Loss: %s\" %loss(test_p, test_y).numpy())\n",
    "\n",
    "# 可视化\n",
    "plt.plot(test_x,test_y-test_noise,color='red')\n",
    "plt.scatter(test_x,test_y)\n",
    "plt.scatter(test_x,test_p)\n",
    "plt.legend(['rule','real','predicted'])\n",
    "\n",
    "# 预测\n",
    "test_p = model([1,2])\n",
    "print(test_p.numpy())"
   ]
  }
 ],
 "metadata": {
  "kernelspec": {
   "display_name": "Python 3",
   "language": "python",
   "name": "python3"
  },
  "language_info": {
   "codemirror_mode": {
    "name": "ipython",
    "version": 3
   },
   "file_extension": ".py",
   "mimetype": "text/x-python",
   "name": "python",
   "nbconvert_exporter": "python",
   "pygments_lexer": "ipython3",
   "version": "3.6.6"
  }
 },
 "nbformat": 4,
 "nbformat_minor": 1
}
