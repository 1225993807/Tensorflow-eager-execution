{
 "cells": [
  {
   "cell_type": "markdown",
   "metadata": {},
   "source": [
    "# 数据"
   ]
  },
  {
   "cell_type": "code",
   "execution_count": 3,
   "metadata": {},
   "outputs": [
    {
     "data": {
      "image/png": "[encoded data removed]",
      "text/plain": [
       "<Figure size 432x288 with 1 Axes>"
      ]
     },
     "metadata": {},
     "output_type": "display_data"
    }
   ],
   "source": [
    "# 导入 TensorFlow\n",
    "import tensorflow as tf\n",
    "# 使用 即显模式\n",
    "tf.enable_eager_execution()\n",
    "\n",
    "# 训练集\n",
    "n_example = 100\n",
    "train_x = tf.random_normal([n_example])\n",
    "train_noise = tf.random_normal([n_example])\n",
    "train_y = train_x * 3 + 2 + train_noise\n",
    "\n",
    "# 测试集\n",
    "n_example = 10\n",
    "test_x = tf.random_normal([n_example])\n",
    "test_noise = tf.random_normal([n_example])\n",
    "test_y = test_x * 3 + 2 + test_noise\n",
    "# 显示训练集\n",
    "import matplotlib.pyplot as plt\n",
    "plt.plot(train_x, train_y - train_noise, color = 'green')\n",
    "plt.scatter(train_x, train_y)\n",
    "plt.legend(['Rule','Data'])\n",
    "plt.show()"
   ]
  },
  {
   "cell_type": "markdown",
   "metadata": {},
   "source": [
    "# 模型"
   ]
  },
  {
   "cell_type": "code",
   "execution_count": 4,
   "metadata": {},
   "outputs": [],
   "source": [
    "import tensorflow.contrib.eager as tfe\n",
    "# 定义模型\n",
    "class Model(object):\n",
    "    def __init__(self):\n",
    "        # 参数\n",
    "        # 初始化：随便给 参数 W 和 b 两个值\n",
    "        self.W = tfe.Variable(1.0)\n",
    "        self.b = tfe.Variable(1.0)\n",
    "    \n",
    "    def __call__(self, x):\n",
    "        # 正向传递\n",
    "        # 如何利用 参数 W 和 b 运算\n",
    "        y = self.W * x + self.b\n",
    "        return y\n",
    "# 实例模型\n",
    "model = Model()"
   ]
  },
  {
   "cell_type": "markdown",
   "metadata": {},
   "source": [
    "# 训练"
   ]
  },
  {
   "cell_type": "code",
   "execution_count": 5,
   "metadata": {
    "scrolled": true
   },
   "outputs": [
    {
     "name": "stdout",
     "output_type": "stream",
     "text": [
      "Epoch: 000 | Loss: 4.119 | W: 1.127 | b: 1.039\n",
      "Epoch: 001 | Loss: 3.742 | W: 1.247 | b: 1.076\n",
      "Epoch: 002 | Loss: 3.411 | W: 1.359 | b: 1.111\n",
      "Epoch: 003 | Loss: 3.121 | W: 1.464 | b: 1.144\n",
      "Epoch: 004 | Loss: 2.866 | W: 1.562 | b: 1.175\n",
      "Epoch: 005 | Loss: 2.642 | W: 1.655 | b: 1.205\n",
      "Epoch: 006 | Loss: 2.446 | W: 1.741 | b: 1.233\n",
      "Epoch: 007 | Loss: 2.273 | W: 1.823 | b: 1.260\n",
      "Epoch: 008 | Loss: 2.122 | W: 1.899 | b: 1.285\n",
      "Epoch: 009 | Loss: 1.990 | W: 1.970 | b: 1.309\n",
      "Epoch: 010 | Loss: 1.874 | W: 2.037 | b: 1.332\n",
      "Epoch: 011 | Loss: 1.772 | W: 2.100 | b: 1.353\n",
      "Epoch: 012 | Loss: 1.683 | W: 2.159 | b: 1.374\n",
      "Epoch: 013 | Loss: 1.605 | W: 2.214 | b: 1.393\n",
      "Epoch: 014 | Loss: 1.537 | W: 2.266 | b: 1.411\n",
      "Epoch: 015 | Loss: 1.478 | W: 2.315 | b: 1.428\n",
      "Epoch: 016 | Loss: 1.426 | W: 2.361 | b: 1.444\n",
      "Epoch: 017 | Loss: 1.380 | W: 2.403 | b: 1.459\n",
      "Epoch: 018 | Loss: 1.341 | W: 2.444 | b: 1.474\n",
      "Epoch: 019 | Loss: 1.306 | W: 2.481 | b: 1.488\n",
      "Epoch: 020 | Loss: 1.276 | W: 2.517 | b: 1.500\n",
      "Epoch: 021 | Loss: 1.250 | W: 2.550 | b: 1.513\n",
      "Epoch: 022 | Loss: 1.227 | W: 2.581 | b: 1.524\n",
      "Epoch: 023 | Loss: 1.207 | W: 2.610 | b: 1.535\n",
      "Epoch: 024 | Loss: 1.190 | W: 2.638 | b: 1.545\n",
      "Epoch: 025 | Loss: 1.175 | W: 2.663 | b: 1.555\n",
      "Epoch: 026 | Loss: 1.162 | W: 2.687 | b: 1.564\n",
      "Epoch: 027 | Loss: 1.151 | W: 2.710 | b: 1.573\n",
      "Epoch: 028 | Loss: 1.141 | W: 2.731 | b: 1.581\n",
      "Epoch: 029 | Loss: 1.133 | W: 2.751 | b: 1.588\n",
      "Final Test Loss: 0.60933065\n",
      "[4.339469 7.090563]\n"
     ]
    },
    {
     "data": {
      "image/png": "[encoded data removed]",
      "text/plain": [
       "<Figure size 432x288 with 1 Axes>"
      ]
     },
     "metadata": {},
     "output_type": "display_data"
    }
   ],
   "source": [
    "# 误差函数\n",
    "def loss(prediction, label):\n",
    "    loss = tf.reduce_mean(tf.square(prediction - label))\n",
    "    return loss\n",
    "\n",
    "# 更新方式\n",
    "def train(model, x, y, learning_rate, batch_size, epoch):\n",
    "    # 更新次数\n",
    "    for e in range(epoch):\n",
    "        # 批量更新\n",
    "        for b in range(0,len(x.numpy()),batch_size):\n",
    "            # 计算梯度\n",
    "            with tf.GradientTape() as tape:\n",
    "                loss_value = loss(model(x[b:b+batch_size]), y[b:b+batch_size])\n",
    "                dW, db = tape.gradient(loss_value, [model.W, model.b])\n",
    "            # 训练更新\n",
    "            model.W.assign_sub(dW * learning_rate)\n",
    "            model.b.assign_sub(db * learning_rate)\n",
    "        # 显示\n",
    "        print(\"Epoch: %03d | Loss: %.3f | W: %.3f | b: %.3f\" %(e, loss(model(x), y), model.W.numpy(), model.b.numpy()))\n",
    "\n",
    "# 训练\n",
    "train(model, train_x, train_y, learning_rate = 0.01, batch_size = 32, epoch = 30)\n",
    "\n",
    "# 评估\n",
    "test_p = model(test_x)\n",
    "print(\"Final Test Loss: %s\" %loss(test_p, test_y).numpy())\n",
    "\n",
    "# 可视化\n",
    "plt.plot(test_x,test_y-test_noise,color='red')\n",
    "plt.scatter(test_x,test_y)\n",
    "plt.scatter(test_x,test_p)\n",
    "plt.legend(['rule','real','predicted'])\n",
    "\n",
    "# 预测\n",
    "test_p = model([1,2])\n",
    "print(test_p.numpy())"
   ]
  }
 ],
 "metadata": {
  "kernelspec": {
   "display_name": "Python 3",
   "language": "python",
   "name": "python3"
  },
  "language_info": {
   "codemirror_mode": {
    "name": "ipython",
    "version": 3
   },
   "file_extension": ".py",
   "mimetype": "text/x-python",
   "name": "python",
   "nbconvert_exporter": "python",
   "pygments_lexer": "ipython3",
   "version": "3.6.6"
  }
 },
 "nbformat": 4,
 "nbformat_minor": 1
}
