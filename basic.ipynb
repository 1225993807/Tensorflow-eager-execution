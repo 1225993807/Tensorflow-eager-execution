{
 "cells": [
  {
   "cell_type": "code",
   "execution_count": 1,
   "metadata": {},
   "outputs": [],
   "source": [
    "# 导入 TensorFlow\n",
    "import tensorflow as tf\n",
    "# 使用 即显模式\n",
    "tf.enable_eager_execution()\n",
    "\n",
    "# 训练集\n",
    "n_example = 100\n",
    "train_x = tf.random_normal([n_example])\n",
    "train_noise = tf.random_normal([n_example])\n",
    "train_y = train_x * 3 + 2 + train_noise\n",
    "\n",
    "# 测试集\n",
    "n_example = 10\n",
    "test_x = tf.random_normal([n_example])\n",
    "test_noise = tf.random_normal([n_example])\n",
    "test_y = test_x * 3 + 2 + test_noise"
   ]
  },
  {
   "cell_type": "code",
   "execution_count": 3,
   "metadata": {},
   "outputs": [
    {
     "data": {
      "image/png": "[encoded data removed]",
      "text/plain": [
       "<Figure size 432x288 with 1 Axes>"
      ]
     },
     "metadata": {},
     "output_type": "display_data"
    }
   ],
   "source": [
    "# 显示训练集\n",
    "import matplotlib.pyplot as plt\n",
    "plt.plot(train_x, train_y - train_noise, color = 'green')\n",
    "plt.scatter(train_x, train_y)\n",
    "plt.legend(['Rule','Data'])\n",
    "plt.show()"
   ]
  },
  {
   "cell_type": "code",
   "execution_count": 4,
   "metadata": {},
   "outputs": [
    {
     "data": {
      "text/html": [
       "<iframe id=\"igraph\" scrolling=\"no\" style=\"border:none;\" seamless=\"seamless\" src=\"https://plot.ly/~gxiiukk/71.embed\" height=\"525px\" width=\"100%\"></iframe>"
      ],
      "text/plain": [
       "<plotly.tools.PlotlyDisplay object>"
      ]
     },
     "execution_count": 4,
     "metadata": {},
     "output_type": "execute_result"
    }
   ],
   "source": [
    "import plotly\n",
    "import plotly.graph_objs as go\n",
    "import numpy as np\n",
    "# Data\n",
    "trace1 = go.Scatter(x = train_x.numpy(), y = train_y.numpy(),\n",
    "    mode = 'markers', name = 'Data')\n",
    "# Rule\n",
    "trace2 = go.Scatter(x = train_x.numpy(), y = train_y.numpy() - train_noise.numpy(),\n",
    "    mode = 'lines', name = 'Rule')\n",
    "\n",
    "data = [trace1,trace2]\n",
    "# Plot and embed in ipython notebook!\n",
    "plotly.plotly.iplot(data, filename='LR_Data')"
   ]
  },
  {
   "cell_type": "code",
   "execution_count": 5,
   "metadata": {},
   "outputs": [],
   "source": [
    "# 训练集的均值和标准差\n",
    "MEAN_X = np.mean(train_x)\n",
    "STD_X = np.std(train_x)\n",
    "MEAN_Y = np.mean(train_y)\n",
    "STD_Y = np.std(train_y)\n",
    "\n",
    "# 标准化训练集和测试集\n",
    "norm_train_x = (train_x - MEAN_X)/STD_X\n",
    "norm_train_y = (train_y - MEAN_Y)/STD_Y\n",
    "norm_test_x = (test_x - MEAN_X)/STD_X\n",
    "norm_test_y = (test_y - MEAN_Y)/STD_Y"
   ]
  },
  {
   "cell_type": "code",
   "execution_count": 6,
   "metadata": {},
   "outputs": [
    {
     "data": {
      "text/plain": [
       "<matplotlib.legend.Legend at 0x1faee4acef0>"
      ]
     },
     "execution_count": 6,
     "metadata": {},
     "output_type": "execute_result"
    },
    {
     "data": {
      "image/png": "[encoded data removed]",
      "text/plain": [
       "<Figure size 432x288 with 1 Axes>"
      ]
     },
     "metadata": {},
     "output_type": "display_data"
    }
   ],
   "source": [
    "# 显示原始数据和标准化数据\n",
    "plt.scatter(norm_train_x, norm_train_y)\n",
    "plt.scatter(train_x, train_y)\n",
    "plt.legend(['original','norm'])"
   ]
  },
  {
   "cell_type": "code",
   "execution_count": 7,
   "metadata": {},
   "outputs": [
    {
     "data": {
      "text/html": [
       "<iframe id=\"igraph\" scrolling=\"no\" style=\"border:none;\" seamless=\"seamless\" src=\"https://plot.ly/~gxiiukk/69.embed\" height=\"525px\" width=\"100%\"></iframe>"
      ],
      "text/plain": [
       "<plotly.tools.PlotlyDisplay object>"
      ]
     },
     "execution_count": 7,
     "metadata": {},
     "output_type": "execute_result"
    }
   ],
   "source": [
    "# 原始数据\n",
    "trace1 = go.Scatter(x = train_x.numpy(), y = train_y.numpy(),\n",
    "    mode = 'markers', name = 'Original')\n",
    "# Rule\n",
    "trace2 = go.Scatter(x = norm_train_x.numpy(), y = norm_train_y.numpy(),\n",
    "    mode = 'markers', name = 'Standardization')\n",
    "\n",
    "data = [trace1,trace2]\n",
    "# Plot and embed in ipython notebook!\n",
    "plotly.plotly.iplot(data, filename='Standardization')"
   ]
  },
  {
   "cell_type": "code",
   "execution_count": 8,
   "metadata": {},
   "outputs": [],
   "source": [
    "import tensorflow.contrib.eager as tfe\n",
    "# 定义模型\n",
    "class Model(object):\n",
    "    def __init__(self):\n",
    "        # 参数\n",
    "        # 初始化：随便给 参数 W 和 b 两个值\n",
    "        self.W = tfe.Variable(1.0)\n",
    "        self.b = tfe.Variable(1.0)\n",
    "    \n",
    "    def __call__(self, x):\n",
    "        # 正向传递\n",
    "        # 如何利用 参数 W 和 b 运算\n",
    "        y = self.W * x + self.b\n",
    "        return y\n",
    "# 实例模型\n",
    "model = Model()"
   ]
  },
  {
   "cell_type": "code",
   "execution_count": 9,
   "metadata": {
    "scrolled": true
   },
   "outputs": [
    {
     "name": "stdout",
     "output_type": "stream",
     "text": [
      "Epoch: 000 | Loss: 5.160 | W: 1.149 | b: 1.103\n",
      "Epoch: 001 | Loss: 4.523 | W: 1.287 | b: 1.197\n",
      "Epoch: 002 | Loss: 3.983 | W: 1.416 | b: 1.283\n",
      "Epoch: 003 | Loss: 3.526 | W: 1.536 | b: 1.361\n",
      "Epoch: 004 | Loss: 3.138 | W: 1.647 | b: 1.433\n",
      "Epoch: 005 | Loss: 2.810 | W: 1.750 | b: 1.499\n",
      "Epoch: 006 | Loss: 2.533 | W: 1.847 | b: 1.559\n",
      "Epoch: 007 | Loss: 2.299 | W: 1.936 | b: 1.614\n",
      "Epoch: 008 | Loss: 2.101 | W: 2.019 | b: 1.664\n",
      "Epoch: 009 | Loss: 1.934 | W: 2.097 | b: 1.710\n",
      "Epoch: 010 | Loss: 1.793 | W: 2.169 | b: 1.752\n",
      "Epoch: 011 | Loss: 1.675 | W: 2.236 | b: 1.791\n",
      "Epoch: 012 | Loss: 1.576 | W: 2.298 | b: 1.826\n",
      "Epoch: 013 | Loss: 1.493 | W: 2.356 | b: 1.858\n",
      "Epoch: 014 | Loss: 1.423 | W: 2.410 | b: 1.887\n",
      "Epoch: 015 | Loss: 1.365 | W: 2.460 | b: 1.913\n",
      "Epoch: 016 | Loss: 1.316 | W: 2.507 | b: 1.938\n",
      "Epoch: 017 | Loss: 1.276 | W: 2.550 | b: 1.960\n",
      "Epoch: 018 | Loss: 1.243 | W: 2.590 | b: 1.980\n",
      "Epoch: 019 | Loss: 1.215 | W: 2.628 | b: 1.998\n",
      "Epoch: 020 | Loss: 1.193 | W: 2.663 | b: 2.015\n",
      "Epoch: 021 | Loss: 1.174 | W: 2.696 | b: 2.031\n",
      "Epoch: 022 | Loss: 1.159 | W: 2.726 | b: 2.045\n",
      "Epoch: 023 | Loss: 1.147 | W: 2.754 | b: 2.057\n",
      "Epoch: 024 | Loss: 1.138 | W: 2.780 | b: 2.069\n",
      "Epoch: 025 | Loss: 1.130 | W: 2.805 | b: 2.079\n",
      "Epoch: 026 | Loss: 1.124 | W: 2.828 | b: 2.089\n",
      "Epoch: 027 | Loss: 1.120 | W: 2.849 | b: 2.098\n",
      "Epoch: 028 | Loss: 1.116 | W: 2.869 | b: 2.106\n",
      "Epoch: 029 | Loss: 1.114 | W: 2.887 | b: 2.113\n",
      "Final Test Loss: 1.0681894\n",
      "[5.000066  7.8870773]\n"
     ]
    },
    {
     "data": {
      "image/png": "[encoded data removed]",
      "text/plain": [
       "<Figure size 432x288 with 1 Axes>"
      ]
     },
     "metadata": {},
     "output_type": "display_data"
    }
   ],
   "source": [
    "# 误差函数\n",
    "def loss(prediction, label):\n",
    "    loss = tf.reduce_mean(tf.square(prediction - label))\n",
    "    return loss\n",
    "\n",
    "# 更新方式\n",
    "def train(model, x, y, learning_rate, batch_size, epoch):\n",
    "    # 更新次数\n",
    "    for e in range(epoch):\n",
    "        # 批量更新\n",
    "        for b in range(0,len(x.numpy()),batch_size):\n",
    "            # 计算梯度\n",
    "            with tf.GradientTape() as tape:\n",
    "                loss_value = loss(model(x[b:b+batch_size]), y[b:b+batch_size])\n",
    "                dW, db = tape.gradient(loss_value, [model.W, model.b])\n",
    "            # 训练更新\n",
    "            model.W.assign_sub(dW * learning_rate)\n",
    "            model.b.assign_sub(db * learning_rate)\n",
    "        # 显示\n",
    "        print(\"Epoch: %03d | Loss: %.3f | W: %.3f | b: %.3f\" %(e, loss(model(x), y), model.W.numpy(), model.b.numpy()))\n",
    "\n",
    "# 训练\n",
    "train(model, train_x, train_y, learning_rate = 0.01, batch_size = 32, epoch = 30)\n",
    "\n",
    "# 评估\n",
    "test_p = model(test_x)\n",
    "print(\"Final Test Loss: %s\" %loss(test_p, test_y).numpy())\n",
    "\n",
    "# 可视化\n",
    "plt.plot(test_x,test_y-test_noise,color='red')\n",
    "plt.scatter(test_x,test_y)\n",
    "plt.scatter(test_x,test_p)\n",
    "plt.legend(['rule','real','predicted'])\n",
    "\n",
    "# 预测\n",
    "test_p = model([1,2])\n",
    "print(test_p.numpy())"
   ]
  }
 ],
 "metadata": {
  "kernelspec": {
   "display_name": "Python 3",
   "language": "python",
   "name": "python3"
  },
  "language_info": {
   "codemirror_mode": {
    "name": "ipython",
    "version": 3
   },
   "file_extension": ".py",
   "mimetype": "text/x-python",
   "name": "python",
   "nbconvert_exporter": "python",
   "pygments_lexer": "ipython3",
   "version": "3.6.6"
  }
 },
 "nbformat": 4,
 "nbformat_minor": 1
}
