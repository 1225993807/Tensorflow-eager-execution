{
 "cells": [
  {
   "cell_type": "markdown",
   "metadata": {},
   "source": [
    "# 数据"
   ]
  },
  {
   "cell_type": "code",
   "execution_count": 1,
   "metadata": {},
   "outputs": [],
   "source": [
    "import tensorflow as tf\n",
    "import tensorflow.contrib.eager as tfe\n",
    "import numpy as np\n",
    "tf.enable_eager_execution()"
   ]
  },
  {
   "cell_type": "code",
   "execution_count": 2,
   "metadata": {},
   "outputs": [
    {
     "name": "stdout",
     "output_type": "stream",
     "text": [
      "Populating the interactive namespace from numpy and matplotlib\n",
      "图片数字：5\n",
      "训练数据 (60000, 784), (60000,)\n",
      "测试数据 (10000, 784), (10000,)\n"
     ]
    },
    {
     "data": {
      "image/png": "[encoded data removed]",
      "text/plain": [
       "<Figure size 432x288 with 1 Axes>"
      ]
     },
     "metadata": {},
     "output_type": "display_data"
    }
   ],
   "source": [
    "# 训练、测试集\n",
    "(train_x, train_y), (test_x, test_y) = tf.keras.datasets.mnist.load_data()\n",
    "\n",
    "# 数据形状和类型变换\n",
    "train_x = train_x.reshape([-1,28*28]).astype('float32')\n",
    "test_x = test_x.reshape([-1,28*28]).astype('float32')\n",
    "train_y = train_y.astype('int32')\n",
    "test_y = test_y.astype('int32')\n",
    "\n",
    "# 显示训练集\n",
    "%pylab inline\n",
    "import matplotlib.pyplot as plt\n",
    "import matplotlib.image as mpimg\n",
    "imgplot = plt.imshow(train_x[0].reshape([28,28]),cmap='gray')\n",
    "print('图片数字：%s' %train_y[0])\n",
    "print('训练数据 %s, %s' %(train_x.shape,train_y.shape))\n",
    "print('测试数据 %s, %s' %(test_x.shape,test_y.shape))"
   ]
  },
  {
   "cell_type": "markdown",
   "metadata": {},
   "source": [
    "# 自搭模型"
   ]
  },
  {
   "cell_type": "code",
   "execution_count": 3,
   "metadata": {},
   "outputs": [],
   "source": [
    "# 初始化方法\n",
    "def inits(shape):\n",
    "    return tf.random_uniform(shape,\n",
    "            minval=-np.sqrt(5) * np.sqrt(1.0 / shape[0]),\n",
    "            maxval=np.sqrt(5) * np.sqrt(1.0 / shape[0]))\n",
    "# 定义模型\n",
    "class Model(object):\n",
    "    def __init__(self):\n",
    "        # 参数初始化\n",
    "        self.W1 = tfe.Variable(inits([784,512]))\n",
    "        self.b1 = tfe.Variable(inits([512]))\n",
    "        self.W2 = tfe.Variable(inits([512,256]))\n",
    "        self.b2 = tfe.Variable(inits([256]))\n",
    "        self.W3 = tfe.Variable(inits([256,10]))\n",
    "        self.b3 = tfe.Variable(inits([10]))\n",
    "    def __call__(self, x):\n",
    "        # 正向传递\n",
    "        y = tf.nn.relu(tf.matmul(x, self.W1) + self.b1)\n",
    "        y = tf.nn.relu(tf.matmul(y, self.W2) + self.b2)\n",
    "        y = tf.matmul(y, self.W3) + self.b3\n",
    "        return y\n",
    "# 实例模型\n",
    "model = Model()"
   ]
  },
  {
   "cell_type": "markdown",
   "metadata": {},
   "source": [
    "# 训练"
   ]
  },
  {
   "cell_type": "code",
   "execution_count": 4,
   "metadata": {
    "scrolled": true
   },
   "outputs": [
    {
     "name": "stdout",
     "output_type": "stream",
     "text": [
      "Epoch: 000 | train loss: 0.934 | train acc: 0.880 | test loss: 1.072 | test acc: 0.873\n",
      "Epoch: 001 | train loss: 0.562 | train acc: 0.906 | test loss: 0.729 | test acc: 0.892\n",
      "Epoch: 002 | train loss: 0.401 | train acc: 0.925 | test loss: 0.596 | test acc: 0.905\n",
      "Epoch: 003 | train loss: 0.324 | train acc: 0.933 | test loss: 0.539 | test acc: 0.909\n",
      "Epoch: 004 | train loss: 0.263 | train acc: 0.942 | test loss: 0.492 | test acc: 0.914\n",
      "Epoch: 005 | train loss: 0.223 | train acc: 0.950 | test loss: 0.466 | test acc: 0.917\n",
      "Epoch: 006 | train loss: 0.192 | train acc: 0.954 | test loss: 0.445 | test acc: 0.920\n",
      "Epoch: 007 | train loss: 0.170 | train acc: 0.960 | test loss: 0.428 | test acc: 0.922\n",
      "Epoch: 008 | train loss: 0.149 | train acc: 0.964 | test loss: 0.412 | test acc: 0.925\n",
      "Epoch: 009 | train loss: 0.136 | train acc: 0.965 | test loss: 0.409 | test acc: 0.926\n",
      "Epoch: 010 | train loss: 0.121 | train acc: 0.970 | test loss: 0.399 | test acc: 0.927\n",
      "Epoch: 011 | train loss: 0.108 | train acc: 0.973 | test loss: 0.388 | test acc: 0.928\n",
      "Epoch: 012 | train loss: 0.100 | train acc: 0.974 | test loss: 0.386 | test acc: 0.928\n",
      "Epoch: 013 | train loss: 0.090 | train acc: 0.977 | test loss: 0.380 | test acc: 0.930\n",
      "Epoch: 014 | train loss: 0.083 | train acc: 0.979 | test loss: 0.374 | test acc: 0.933\n",
      "Epoch: 015 | train loss: 0.077 | train acc: 0.981 | test loss: 0.374 | test acc: 0.932\n",
      "Epoch: 016 | train loss: 0.071 | train acc: 0.982 | test loss: 0.370 | test acc: 0.933\n",
      "Epoch: 017 | train loss: 0.066 | train acc: 0.983 | test loss: 0.369 | test acc: 0.934\n",
      "Epoch: 018 | train loss: 0.061 | train acc: 0.985 | test loss: 0.364 | test acc: 0.935\n",
      "Epoch: 019 | train loss: 0.059 | train acc: 0.985 | test loss: 0.364 | test acc: 0.935\n",
      "Epoch: 020 | train loss: 0.054 | train acc: 0.987 | test loss: 0.363 | test acc: 0.937\n",
      "Epoch: 021 | train loss: 0.051 | train acc: 0.987 | test loss: 0.363 | test acc: 0.937\n",
      "Epoch: 022 | train loss: 0.048 | train acc: 0.988 | test loss: 0.360 | test acc: 0.937\n",
      "Epoch: 023 | train loss: 0.045 | train acc: 0.989 | test loss: 0.357 | test acc: 0.939\n",
      "Epoch: 024 | train loss: 0.043 | train acc: 0.989 | test loss: 0.361 | test acc: 0.937\n",
      "Epoch: 025 | train loss: 0.040 | train acc: 0.990 | test loss: 0.359 | test acc: 0.938\n",
      "Epoch: 026 | train loss: 0.038 | train acc: 0.991 | test loss: 0.358 | test acc: 0.939\n",
      "Epoch: 027 | train loss: 0.036 | train acc: 0.992 | test loss: 0.358 | test acc: 0.941\n",
      "Epoch: 028 | train loss: 0.034 | train acc: 0.992 | test loss: 0.357 | test acc: 0.941\n",
      "Epoch: 029 | train loss: 0.032 | train acc: 0.993 | test loss: 0.356 | test acc: 0.940\n",
      "Epoch: 030 | train loss: 0.031 | train acc: 0.993 | test loss: 0.357 | test acc: 0.941\n",
      "Epoch: 031 | train loss: 0.029 | train acc: 0.993 | test loss: 0.356 | test acc: 0.941\n",
      "Epoch: 032 | train loss: 0.027 | train acc: 0.994 | test loss: 0.356 | test acc: 0.942\n",
      "Epoch: 033 | train loss: 0.027 | train acc: 0.995 | test loss: 0.358 | test acc: 0.941\n",
      "Epoch: 034 | train loss: 0.025 | train acc: 0.995 | test loss: 0.356 | test acc: 0.942\n",
      "Epoch: 035 | train loss: 0.024 | train acc: 0.995 | test loss: 0.355 | test acc: 0.941\n",
      "Epoch: 036 | train loss: 0.023 | train acc: 0.995 | test loss: 0.357 | test acc: 0.941\n",
      "Epoch: 037 | train loss: 0.022 | train acc: 0.996 | test loss: 0.357 | test acc: 0.942\n",
      "Epoch: 038 | train loss: 0.021 | train acc: 0.996 | test loss: 0.355 | test acc: 0.943\n",
      "Epoch: 039 | train loss: 0.020 | train acc: 0.996 | test loss: 0.356 | test acc: 0.942\n",
      "Epoch: 040 | train loss: 0.019 | train acc: 0.997 | test loss: 0.358 | test acc: 0.942\n",
      "Epoch: 041 | train loss: 0.018 | train acc: 0.997 | test loss: 0.356 | test acc: 0.942\n",
      "Epoch: 042 | train loss: 0.018 | train acc: 0.997 | test loss: 0.355 | test acc: 0.943\n",
      "Epoch: 043 | train loss: 0.017 | train acc: 0.997 | test loss: 0.356 | test acc: 0.943\n",
      "Epoch: 044 | train loss: 0.016 | train acc: 0.997 | test loss: 0.356 | test acc: 0.943\n",
      "Epoch: 045 | train loss: 0.016 | train acc: 0.997 | test loss: 0.356 | test acc: 0.942\n",
      "Epoch: 046 | train loss: 0.015 | train acc: 0.997 | test loss: 0.357 | test acc: 0.943\n",
      "Epoch: 047 | train loss: 0.015 | train acc: 0.998 | test loss: 0.357 | test acc: 0.944\n",
      "Epoch: 048 | train loss: 0.014 | train acc: 0.998 | test loss: 0.357 | test acc: 0.943\n",
      "Epoch: 049 | train loss: 0.014 | train acc: 0.998 | test loss: 0.358 | test acc: 0.943\n",
      "Final Test Loss: 0.9432\n"
     ]
    }
   ],
   "source": [
    "from sklearn.metrics import accuracy_score\n",
    "# 误差函数\n",
    "def loss(logits, label):\n",
    "    loss = tf.losses.sparse_softmax_cross_entropy(labels=label, logits=logits)\n",
    "    return loss\n",
    "\n",
    "# 更新方式\n",
    "def train(model, x, y, learning_rate, batch_size, epoch):\n",
    "    # 更新次数\n",
    "    for e in range(epoch):\n",
    "        # 批量更新\n",
    "        r = np.random.permutation(len(x))\n",
    "        x = x[r]\n",
    "        y = y[r]\n",
    "        for b in range(0,len(x),batch_size):\n",
    "            # 计算梯度\n",
    "            with tf.GradientTape() as tape:\n",
    "                loss_value = loss(model(x[b:b+batch_size]), y[b:b+batch_size])\n",
    "                dW1, db1, dW2, db2, dW3, db3 = tape.gradient(loss_value, \n",
    "                                   [model.W1, model.b1, model.W2, model.b2, model.W3, model.b3])\n",
    "            # 训练更新\n",
    "            model.W1.assign_sub(dW1 * learning_rate)\n",
    "            model.b1.assign_sub(db1 * learning_rate)\n",
    "            model.W2.assign_sub(dW2 * learning_rate)\n",
    "            model.b2.assign_sub(db2 * learning_rate)\n",
    "            model.W3.assign_sub(dW3 * learning_rate)\n",
    "            model.b3.assign_sub(db3 * learning_rate)\n",
    "            \n",
    "        # 显示\n",
    "        train_p = model(train_x)\n",
    "        test_p = model(test_x)\n",
    "        print(\"Epoch: %03d | train loss: %.3f | train acc: %.3f | test loss: %.3f | test acc: %.3f\" \n",
    "              %(e, loss(train_p, train_y), accuracy_score(tf.argmax(train_p,1), train_y),\n",
    "                   loss(test_p, test_y), accuracy_score(tf.argmax(test_p,1), test_y)))\n",
    "\n",
    "# 训练\n",
    "train(model, train_x, train_y, learning_rate = 0.001, batch_size = 256, epoch = 50)\n",
    "\n",
    "# 评估\n",
    "test_p = model(test_x)\n",
    "print(\"Final Test Loss: %s\" %accuracy_score(tf.argmax(test_p,1), test_y))"
   ]
  },
  {
   "cell_type": "markdown",
   "metadata": {},
   "source": [
    "# 用 API 建模型"
   ]
  },
  {
   "cell_type": "code",
   "execution_count": 5,
   "metadata": {},
   "outputs": [],
   "source": [
    "model = tf.keras.Sequential([\n",
    "          tf.keras.layers.Dense(512, activation=tf.nn.relu, input_shape=(784,)),\n",
    "          tf.keras.layers.Dense(256, activation=tf.nn.relu),\n",
    "          tf.keras.layers.Dense(10)\n",
    "        ])"
   ]
  },
  {
   "cell_type": "markdown",
   "metadata": {},
   "source": [
    "# 用 API 训练"
   ]
  },
  {
   "cell_type": "code",
   "execution_count": 6,
   "metadata": {
    "scrolled": true
   },
   "outputs": [
    {
     "name": "stdout",
     "output_type": "stream",
     "text": [
      "Epoch: 000 | train loss: 0.902 | train acc: 0.909 | test loss: 1.105 | test acc: 0.899\n",
      "Epoch: 001 | train loss: 0.524 | train acc: 0.928 | test loss: 0.796 | test acc: 0.908\n",
      "Epoch: 002 | train loss: 0.366 | train acc: 0.940 | test loss: 0.667 | test acc: 0.913\n",
      "Epoch: 003 | train loss: 0.255 | train acc: 0.957 | test loss: 0.582 | test acc: 0.924\n",
      "Epoch: 004 | train loss: 0.195 | train acc: 0.964 | test loss: 0.538 | test acc: 0.928\n",
      "Epoch: 005 | train loss: 0.152 | train acc: 0.971 | test loss: 0.519 | test acc: 0.930\n",
      "Epoch: 006 | train loss: 0.129 | train acc: 0.974 | test loss: 0.507 | test acc: 0.930\n",
      "Epoch: 007 | train loss: 0.105 | train acc: 0.978 | test loss: 0.491 | test acc: 0.933\n",
      "Epoch: 008 | train loss: 0.086 | train acc: 0.983 | test loss: 0.477 | test acc: 0.933\n",
      "Epoch: 009 | train loss: 0.073 | train acc: 0.985 | test loss: 0.469 | test acc: 0.935\n",
      "Epoch: 010 | train loss: 0.060 | train acc: 0.988 | test loss: 0.466 | test acc: 0.935\n",
      "Epoch: 011 | train loss: 0.052 | train acc: 0.989 | test loss: 0.454 | test acc: 0.937\n",
      "Epoch: 012 | train loss: 0.044 | train acc: 0.991 | test loss: 0.448 | test acc: 0.938\n",
      "Epoch: 013 | train loss: 0.039 | train acc: 0.992 | test loss: 0.448 | test acc: 0.940\n",
      "Epoch: 014 | train loss: 0.033 | train acc: 0.994 | test loss: 0.442 | test acc: 0.939\n",
      "Epoch: 015 | train loss: 0.030 | train acc: 0.994 | test loss: 0.441 | test acc: 0.939\n",
      "Epoch: 016 | train loss: 0.026 | train acc: 0.996 | test loss: 0.439 | test acc: 0.941\n",
      "Epoch: 017 | train loss: 0.025 | train acc: 0.995 | test loss: 0.437 | test acc: 0.939\n",
      "Epoch: 018 | train loss: 0.020 | train acc: 0.997 | test loss: 0.433 | test acc: 0.941\n",
      "Epoch: 019 | train loss: 0.018 | train acc: 0.997 | test loss: 0.434 | test acc: 0.942\n",
      "Epoch: 020 | train loss: 0.016 | train acc: 0.998 | test loss: 0.434 | test acc: 0.941\n",
      "Epoch: 021 | train loss: 0.015 | train acc: 0.998 | test loss: 0.431 | test acc: 0.942\n",
      "Epoch: 022 | train loss: 0.013 | train acc: 0.998 | test loss: 0.429 | test acc: 0.942\n",
      "Epoch: 023 | train loss: 0.012 | train acc: 0.998 | test loss: 0.430 | test acc: 0.943\n",
      "Epoch: 024 | train loss: 0.011 | train acc: 0.999 | test loss: 0.428 | test acc: 0.942\n",
      "Epoch: 025 | train loss: 0.010 | train acc: 0.999 | test loss: 0.429 | test acc: 0.943\n",
      "Epoch: 026 | train loss: 0.009 | train acc: 0.999 | test loss: 0.428 | test acc: 0.943\n",
      "Epoch: 027 | train loss: 0.008 | train acc: 0.999 | test loss: 0.426 | test acc: 0.943\n",
      "Epoch: 028 | train loss: 0.008 | train acc: 0.999 | test loss: 0.426 | test acc: 0.944\n",
      "Epoch: 029 | train loss: 0.008 | train acc: 0.999 | test loss: 0.427 | test acc: 0.943\n",
      "Epoch: 030 | train loss: 0.007 | train acc: 0.999 | test loss: 0.425 | test acc: 0.944\n",
      "Epoch: 031 | train loss: 0.006 | train acc: 0.999 | test loss: 0.426 | test acc: 0.944\n",
      "Epoch: 032 | train loss: 0.007 | train acc: 0.999 | test loss: 0.427 | test acc: 0.944\n",
      "Epoch: 033 | train loss: 0.006 | train acc: 1.000 | test loss: 0.426 | test acc: 0.944\n",
      "Epoch: 034 | train loss: 0.005 | train acc: 1.000 | test loss: 0.426 | test acc: 0.945\n",
      "Epoch: 035 | train loss: 0.005 | train acc: 1.000 | test loss: 0.426 | test acc: 0.945\n",
      "Epoch: 036 | train loss: 0.005 | train acc: 1.000 | test loss: 0.425 | test acc: 0.945\n",
      "Epoch: 037 | train loss: 0.004 | train acc: 1.000 | test loss: 0.425 | test acc: 0.946\n",
      "Epoch: 038 | train loss: 0.004 | train acc: 1.000 | test loss: 0.424 | test acc: 0.945\n",
      "Epoch: 039 | train loss: 0.004 | train acc: 1.000 | test loss: 0.425 | test acc: 0.946\n",
      "Epoch: 040 | train loss: 0.004 | train acc: 1.000 | test loss: 0.425 | test acc: 0.946\n",
      "Epoch: 041 | train loss: 0.004 | train acc: 1.000 | test loss: 0.425 | test acc: 0.945\n",
      "Epoch: 042 | train loss: 0.003 | train acc: 1.000 | test loss: 0.424 | test acc: 0.946\n",
      "Epoch: 043 | train loss: 0.003 | train acc: 1.000 | test loss: 0.425 | test acc: 0.946\n",
      "Epoch: 044 | train loss: 0.003 | train acc: 1.000 | test loss: 0.424 | test acc: 0.946\n",
      "Epoch: 045 | train loss: 0.003 | train acc: 1.000 | test loss: 0.424 | test acc: 0.947\n",
      "Epoch: 046 | train loss: 0.003 | train acc: 1.000 | test loss: 0.425 | test acc: 0.946\n",
      "Epoch: 047 | train loss: 0.003 | train acc: 1.000 | test loss: 0.424 | test acc: 0.947\n",
      "Epoch: 048 | train loss: 0.003 | train acc: 1.000 | test loss: 0.423 | test acc: 0.947\n",
      "Epoch: 049 | train loss: 0.003 | train acc: 1.000 | test loss: 0.423 | test acc: 0.947\n",
      "Final Test Loss: 0.947\n"
     ]
    }
   ],
   "source": [
    "# 误差函数\n",
    "def loss(logits, label):\n",
    "    loss = tf.losses.sparse_softmax_cross_entropy(labels=label, logits=logits)\n",
    "    return loss\n",
    "\n",
    "# 更新方式\n",
    "def train(model, x, y, learning_rate, batch_size, epoch):\n",
    "    # 更新次数\n",
    "    for e in range(epoch):\n",
    "        # 批量更新\n",
    "        r = np.random.permutation(len(x))\n",
    "        x = x[r]\n",
    "        y = y[r]\n",
    "        for b in range(0,len(x),batch_size):\n",
    "            # 计算梯度\n",
    "            with tf.GradientTape() as tape:\n",
    "                loss_value = loss(model(x[b:b+batch_size]), y[b:b+batch_size])\n",
    "                grads = tape.gradient(loss_value, model.variables)\n",
    "            # 训练更新\n",
    "            optimizer = tf.train.GradientDescentOptimizer(learning_rate=learning_rate)\n",
    "            optimizer.apply_gradients(zip(grads, model.variables),\n",
    "                            global_step=tf.train.get_or_create_global_step())\n",
    "        # 显示\n",
    "        train_p = model(train_x)\n",
    "        test_p = model(test_x)\n",
    "        print(\"Epoch: %03d | train loss: %.3f | train acc: %.3f | test loss: %.3f | test acc: %.3f\" \n",
    "              %(e, loss(train_p, train_y), accuracy_score(tf.argmax(train_p,1), train_y),\n",
    "                   loss(test_p, test_y), accuracy_score(tf.argmax(test_p,1), test_y)))\n",
    "\n",
    "# 训练\n",
    "train(model, train_x, train_y, learning_rate = 0.001, batch_size = 256, epoch = 50)\n",
    "\n",
    "# 评估\n",
    "test_p = model(test_x)\n",
    "print(\"Final Test Loss: %s\" %accuracy_score(tf.argmax(test_p,1), test_y))"
   ]
  },
  {
   "cell_type": "markdown",
   "metadata": {},
   "source": [
    "# 预测"
   ]
  },
  {
   "cell_type": "code",
   "execution_count": 7,
   "metadata": {},
   "outputs": [
    {
     "name": "stdout",
     "output_type": "stream",
     "text": [
      "真实数字：2\n",
      "预测数字：2\n"
     ]
    },
    {
     "data": {
      "image/png": "[encoded data removed]",
      "text/plain": [
       "<Figure size 432x288 with 1 Axes>"
      ]
     },
     "metadata": {},
     "output_type": "display_data"
    }
   ],
   "source": [
    "imgplot = plt.imshow(test_x[1].reshape((28,28)))\n",
    "print('真实数字：%s' %test_y[1])\n",
    "print('预测数字：%s' %tf.argmax(test_p[1]).numpy())"
   ]
  }
 ],
 "metadata": {
  "kernelspec": {
   "display_name": "Python 3",
   "language": "python",
   "name": "python3"
  },
  "language_info": {
   "codemirror_mode": {
    "name": "ipython",
    "version": 3
   },
   "file_extension": ".py",
   "mimetype": "text/x-python",
   "name": "python",
   "nbconvert_exporter": "python",
   "pygments_lexer": "ipython3",
   "version": "3.6.6"
  }
 },
 "nbformat": 4,
 "nbformat_minor": 1
}
