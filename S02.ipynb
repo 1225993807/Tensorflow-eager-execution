{
 "cells": [
  {
   "cell_type": "code",
   "execution_count": 54,
   "metadata": {},
   "outputs": [],
   "source": [
    "import tensorflow as tf\n",
    "tf.enable_eager_execution()"
   ]
  },
  {
   "cell_type": "code",
   "execution_count": null,
   "metadata": {},
   "outputs": [],
   "source": [
    "# 变量\n",
    "x = 0\n",
    "x = 3"
   ]
  },
  {
   "cell_type": "code",
   "execution_count": 12,
   "metadata": {},
   "outputs": [],
   "source": [
    "# 函数\n",
    "def f( ):\n",
    "    return  "
   ]
  },
  {
   "cell_type": "code",
   "execution_count": 143,
   "metadata": {},
   "outputs": [
    {
     "name": "stdout",
     "output_type": "stream",
     "text": [
      "tf.Tensor(4, shape=(), dtype=int32)\n",
      "4\n"
     ]
    }
   ],
   "source": [
    "# 计数方法 f\n",
    "def f(x):\n",
    "    # tf 内置加法\n",
    "    y = tf.add(x, 1)\n",
    "    return y\n",
    "print(f(3))\n",
    "# 使用.numpy()方法 将 tensor 类型变成 numpy\n",
    "print(f(3).numpy())"
   ]
  },
  {
   "cell_type": "code",
   "execution_count": 144,
   "metadata": {},
   "outputs": [
    {
     "data": {
      "text/plain": [
       "[<matplotlib.lines.Line2D at 0x165ef8924e0>]"
      ]
     },
     "execution_count": 144,
     "metadata": {},
     "output_type": "execute_result"
    },
    {
     "data": {
      "image/png": "[encoded data removed]",
      "text/plain": [
       "<Figure size 432x288 with 1 Axes>"
      ]
     },
     "metadata": {},
     "output_type": "display_data"
    }
   ],
   "source": [
    "# 导入画图库包\n",
    "import matplotlib.pyplot as plt\n",
    "import numpy as np\n",
    "x = tf.range(6) # tf 内置方法\n",
    "y = f(x)\n",
    "plt.plot(x,y)"
   ]
  },
  {
   "cell_type": "code",
   "execution_count": 62,
   "metadata": {},
   "outputs": [
    {
     "name": "stdout",
     "output_type": "stream",
     "text": [
      "tf.Tensor(6, shape=(), dtype=int32)\n"
     ]
    }
   ],
   "source": [
    "# x 从 0 一直循环 6 次（到 5 停止）\n",
    "for x in range(6):\n",
    "    x = f(x)\n",
    "print(x)"
   ]
  },
  {
   "cell_type": "code",
   "execution_count": 164,
   "metadata": {},
   "outputs": [
    {
     "name": "stdout",
     "output_type": "stream",
     "text": [
      "w = 2 \n",
      "x = 3\n",
      "y = 6\n"
     ]
    },
    {
     "data": {
      "text/plain": [
       "[<matplotlib.lines.Line2D at 0x165efb7cf60>]"
      ]
     },
     "execution_count": 164,
     "metadata": {},
     "output_type": "execute_result"
    },
    {
     "data": {
      "image/png": "[encoded data removed]",
      "text/plain": [
       "<Figure size 432x288 with 1 Axes>"
      ]
     },
     "metadata": {},
     "output_type": "display_data"
    }
   ],
   "source": [
    "# 累积速度\n",
    "# 这里 g 返回的累积速度永远不变，是线性的\n",
    "def g(x):\n",
    "    w = 2\n",
    "    return w \n",
    "\n",
    "# 累积量\n",
    "def f(x,w):\n",
    "    y = w*x\n",
    "    return y\n",
    "    \n",
    "print('w = %s ' %(g(3)))\n",
    "print('x = 3\\ny = %s' %f(3,g(x)))\n",
    "\n",
    "x = tf.range(6)\n",
    "y = f(x,g(3))\n",
    "w = [g(x)]*6\n",
    "# 画图\n",
    "plt.plot(x,y)\n",
    "plt.plot(x,w)"
   ]
  },
  {
   "cell_type": "code",
   "execution_count": 165,
   "metadata": {},
   "outputs": [
    {
     "name": "stdout",
     "output_type": "stream",
     "text": [
      "16\n"
     ]
    }
   ],
   "source": [
    "# 两个因素累积一个因素\n",
    "def f(x1,x2,w1,w2):\n",
    "    y = w1*x1 + w2*x2\n",
    "    return y\n",
    "\n",
    "print(f(3,2,4,2))"
   ]
  },
  {
   "cell_type": "code",
   "execution_count": 166,
   "metadata": {},
   "outputs": [
    {
     "name": "stdout",
     "output_type": "stream",
     "text": [
      "15\n"
     ]
    }
   ],
   "source": [
    "# 使用向量来表示\n",
    "import numpy as np\n",
    "w = np.array([4,2]) # list 的定义方法，x = [元素，元素，元素，...]，随后变成 np.array 类型便于使用矩阵和向量的操作\n",
    "def f(x,w):\n",
    "    b = -1\n",
    "    y = np.matmul(x,w) + b\n",
    "    return y\n",
    "\n",
    "print(f([3,2],w))"
   ]
  },
  {
   "cell_type": "code",
   "execution_count": 172,
   "metadata": {},
   "outputs": [
    {
     "name": "stdout",
     "output_type": "stream",
     "text": [
      "[15  9]\n"
     ]
    }
   ],
   "source": [
    "W = np.array([[4,2],[2,2]]) #矩阵的定义方法，list 的内的元素也是等长的 list，x = [list，list，list，...]\n",
    "b = np.array([-1,-1])\n",
    "# 定义拥有属性和方法的类\n",
    "# 把参数 W 和 b 封装在类的内部，成为类的属性\n",
    "\n",
    "class F(object):\n",
    "    def __init__(self,W,b):\n",
    "        # 参数\n",
    "        # 给 参数 W 和 b 两个值\n",
    "        self.W = W\n",
    "        self.b = b\n",
    "    \n",
    "    def __call__(self, x):\n",
    "        # 正向传递：如何利用 参数 W 和 b 运算\n",
    "        # x 放在前面\n",
    "        y = np.matmul(x, self.W) + self.b\n",
    "        return y\n",
    "# 实例化 F 成 f\n",
    "# 这样每次都可以控制实例化时每个 f 内部的 W 和 b\n",
    "f = F(W,b)\n",
    "\n",
    "print(f([3,2]))"
   ]
  },
  {
   "cell_type": "code",
   "execution_count": 169,
   "metadata": {},
   "outputs": [
    {
     "name": "stdout",
     "output_type": "stream",
     "text": [
      "tf.Tensor(\n",
      "[[15  9]\n",
      " [17  9]], shape=(2, 2), dtype=int32)\n"
     ]
    }
   ],
   "source": [
    "# 批量多因素累积多因素\n",
    "tfe = tf.contrib.eager\n",
    "class F(object):\n",
    "    def __init__(self):\n",
    "        # 使用 tfe.Variable 来定义参数，用来与 tensorflow 对接\n",
    "        self.W = tfe.Variable([[4,2],[2,2]])\n",
    "        self.b = tfe.Variable([-1,-1])\n",
    "    \n",
    "    def __call__(self, x):\n",
    "        # 正向传递：如何利用 参数 W 和 b 运算\n",
    "        y = tf.matmul(x, self.W) + self.b\n",
    "        return y\n",
    "# 实例化 f\n",
    "f = F()\n",
    "\n",
    "print(f([[3,2],[4,1]]))"
   ]
  },
  {
   "cell_type": "code",
   "execution_count": 170,
   "metadata": {},
   "outputs": [
    {
     "data": {
      "text/plain": [
       "array([ 2., 12.], dtype=float32)"
      ]
     },
     "execution_count": 170,
     "metadata": {},
     "output_type": "execute_result"
    }
   ],
   "source": [
    "# 定义函数\n",
    "def f(x):\n",
    "    # y = x1^2 + x2^3\n",
    "    return x[0]**2+x[1]**3\n",
    "# 函数的导数\n",
    "grad_f = tfe.gradients_function(f)\n",
    "x = np.array([1,2],dtype='float32') # 导数需要极限，所以 int 这种不连续的类型无法使用，需要定义成 float型。\n",
    "grad_f(x)[0].numpy()"
   ]
  },
  {
   "cell_type": "code",
   "execution_count": 180,
   "metadata": {},
   "outputs": [
    {
     "data": {
      "image/png": "[encoded data removed]",
      "text/plain": [
       "<Figure size 432x288 with 1 Axes>"
      ]
     },
     "metadata": {},
     "output_type": "display_data"
    }
   ],
   "source": [
    "def f(x):\n",
    "    return tf.sin(x)\n",
    "\n",
    "# 高阶求导\n",
    "def grad(f):\n",
    "    return lambda x: tfe.gradients_function(f)(x)[0]\n",
    "\n",
    "x = tf.linspace(-5.0, 5.0, 50)\n",
    "plt.plot(x, f(x), label=\"f\")\n",
    "plt.plot(x, grad(f)(x), label=\"first derivative\")\n",
    "plt.plot(x, grad(grad(f))(x), label=\"second derivative\")\n",
    "plt.legend()\n",
    "plt.show()"
   ]
  }
 ],
 "metadata": {
  "kernelspec": {
   "display_name": "Python 3",
   "language": "python",
   "name": "python3"
  },
  "language_info": {
   "codemirror_mode": {
    "name": "ipython",
    "version": 3
   },
   "file_extension": ".py",
   "mimetype": "text/x-python",
   "name": "python",
   "nbconvert_exporter": "python",
   "pygments_lexer": "ipython3",
   "version": "3.6.6"
  }
 },
 "nbformat": 4,
 "nbformat_minor": 2
}
